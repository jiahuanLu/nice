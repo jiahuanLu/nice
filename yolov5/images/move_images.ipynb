{
 "cells": [
  {
   "cell_type": "markdown",
   "id": "4aea2ecc",
   "metadata": {},
   "source": [
    "### 实现将xml文件对应的图片单独保存到指定目录中"
   ]
  },
  {
   "cell_type": "code",
   "execution_count": null,
   "id": "2983ad78",
   "metadata": {
    "scrolled": false
   },
   "outputs": [],
   "source": [
    "import os\n",
    "import shutil\n",
    "import imghdr\n",
    "import xml.etree.ElementTree as ET\n",
    "\n",
    "def readFileName(path):\n",
    "    fileLists = os.listdir(path)\n",
    "    for fileName in fileLists:\n",
    "        fileFullName = str(fileName).strip()\n",
    "        filePrefixName = os.path.splitext(fileFullName)[0]\n",
    "        fileSuffixName = os.path.splitext(fileFullName)[-1]\n",
    "        print(filePrefixName)\n",
    "        print(fileSuffixName)\n",
    "\n",
    "def moveFiles(xmlPath, imagePaht, distanceImgPaht):  # path为原始路径，disdir是移动的目标目录\n",
    "    fileLists = os.listdir(xmlPath)\n",
    "    if not os.path.exists(distanceImgPaht):\n",
    "        os.makedirs(distanceImgPaht)\n",
    "    for fileName in fileLists:\n",
    "        fileFullName = str(fileName).strip()\n",
    "#         filePrefixName, fileSuffixName = os.path.splitext(fileFullName)\t#分开文件名和后缀\n",
    "        filePrefixName = os.path.splitext(fileFullName)[0]\n",
    "        fileSuffixName = os.path.splitext(fileFullName)[-1]     \n",
    "        childImagePath = os.path.join(imagePaht, filePrefixName + \".jpg\")\n",
    "        \n",
    "        try:\n",
    "            if imghdr.what(childImagePath):  # 判断图片是否能打开\n",
    "                shutil.move(childImagePath, os.path.join(distanceImgPaht, filePrefixName + \".jpg\"))\n",
    "        except Exception as e:\n",
    "            print(e)\n",
    "            \n",
    "def change_file_name(xmlPath, imagePaht):\n",
    "    fileLists = os.listdir(imagePaht)\n",
    "    num = 1\n",
    "    for fileFullName in fileLists:\n",
    "        filePrefixName, fileSuffixName = os.path.splitext(fileFullName)\n",
    "        oldImagePath = os.path.join(imagePaht, filePrefixName + \".jpg\")\n",
    "        print(oldImagePath)\n",
    "\n",
    "        newImagePath = os.path.join(imagePaht, str(num) + \".jpg\")\n",
    "        print(newImagePath)\n",
    "        \n",
    "        try:\n",
    "            if imghdr.what(oldImagePath):  # 判断图片是否能打开\n",
    "                os.rename(oldImagePath, newImagePath)\n",
    "        except Exception as e:\n",
    "            print(e)\n",
    "        num = num + 1\n",
    "        \n",
    "        \n",
    "def change_xml_file_content(xmlPath, imgPath):\n",
    "    fileLists = os.listdir(xmlPath)\n",
    "    try:\n",
    "        for fileFullName in fileLists:\n",
    "            filePrefixName, fileSuffixName = os.path.splitext(fileFullName)\n",
    "    #         print(os.path.join(xmlPath, fileFullName))\n",
    "            tree = ET.parse(os.path.join(xmlPath, fileFullName))\n",
    "            root = tree.getroot()\n",
    "\n",
    "            newImgName = filePrefixName + '.jpg'\n",
    "            newImgPath = os.path.join(imgPath, newImgName)\n",
    "            print(newImgName)\n",
    "            print(newImgPath)\n",
    "            print(\"==================\")\n",
    "            root.findall('path')[0].text = str(newImgPath)\n",
    "            root.findall('filename')[0].text = str(newImgName)\n",
    "            tree.write(os.path.join(xmlPath, fileFullName))\n",
    "    except Exception as e:\n",
    "        print(e)\n",
    "        \n",
    "\n",
    "if __name__ == '__main__':\n",
    "    sourceImageDir = '/Users/lujiahuan/4projects/yolov5+javaweb/yolov5/images/test_images/'   #原始图片文件父目录\n",
    "    distanceDir = '/Users/lujiahuan/4projects/yolov5+javaweb/yolov5/VOCData/images/'       #移动到目标文件夹\n",
    "    xmlDir = '/Users/lujiahuan/4projects/yolov5+javaweb/yolov5/VOCData/Annotations/'\n",
    "\n",
    "    change_file_name(xmlDir, distanceDir)\n"
   ]
  },
  {
   "cell_type": "code",
   "execution_count": null,
   "id": "df5fef0f",
   "metadata": {},
   "outputs": [],
   "source": []
  }
 ],
 "metadata": {
  "kernelspec": {
   "display_name": "Python 3 (ipykernel)",
   "language": "python",
   "name": "python3"
  },
  "language_info": {
   "codemirror_mode": {
    "name": "ipython",
    "version": 3
   },
   "file_extension": ".py",
   "mimetype": "text/x-python",
   "name": "python",
   "nbconvert_exporter": "python",
   "pygments_lexer": "ipython3",
   "version": "3.7.13"
  }
 },
 "nbformat": 4,
 "nbformat_minor": 5
}
